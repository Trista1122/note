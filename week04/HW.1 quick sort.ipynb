{
 "cells": [
  {
   "cell_type": "code",
   "execution_count": 10,
   "metadata": {},
   "outputs": [],
   "source": [
    "def quicksort(list):\n",
    "    s=[]\n",
    "    b=[]\n",
    "    hilist=[]\n",
    "    \n",
    "    if len(list)<=1:\n",
    "        return list\n",
    "    else:\n",
    "        h=list[0]\n",
    "        for i in list:\n",
    "            if i<h:\n",
    "                      s.append(i)\n",
    "            elif i>h:\n",
    "                      b.append(i)\n",
    "            else:\n",
    "                      hilist.append(i)\n",
    "        \n",
    "    s =quicksort(s)\n",
    "    b=quicksort(b)\n",
    "     \n",
    "    return s+hilist+b\n",
    "            \n",
    "            \n",
    "            \n"
   ]
  },
  {
   "cell_type": "code",
   "execution_count": null,
   "metadata": {},
   "outputs": [],
   "source": []
  },
  {
   "cell_type": "code",
   "execution_count": 11,
   "metadata": {},
   "outputs": [
    {
     "name": "stdout",
     "output_type": "stream",
     "text": [
      "[-66, -1, 3, 4, 6, 33, 54]\n"
     ]
    }
   ],
   "source": [
    "print(quicksort([4,3,-1,6,54,33,-66]))"
   ]
  }
 ],
 "metadata": {
  "kernelspec": {
   "display_name": "Python 3",
   "language": "python",
   "name": "python3"
  },
  "language_info": {
   "codemirror_mode": {
    "name": "ipython",
    "version": 3
   },
   "file_extension": ".py",
   "mimetype": "text/x-python",
   "name": "python",
   "nbconvert_exporter": "python",
   "pygments_lexer": "ipython3",
   "version": "3.7.1"
  }
 },
 "nbformat": 4,
 "nbformat_minor": 2
}
